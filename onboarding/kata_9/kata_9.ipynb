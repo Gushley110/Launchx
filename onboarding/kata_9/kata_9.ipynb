{
 "cells": [
  {
   "cell_type": "markdown",
   "metadata": {},
   "source": [
    "# Ejercicio: Uso de funciones en Python\n",
    "### Ejercicio 1: Trabajar con argumentos en funciones\n",
    "Los argumentos requeridos en las funciones se utilizan cuando las funciones necesitan que esos argumentos funcionen correctamente. En este ejercicio, construirás un informe de combustible que requiere información de varias ubicaciones de combustible en todo el cohete.\n",
    "\n",
    "> **TIP** Dedica unos minutos para tratar de encontrar una solución. Luego desplázate hacia abajo hasta la parte inferior para ver si has logrado compilar el programa de acuerdo con las especificaciones\n",
    "\n",
    "Comienza por crear una función que necesite tres lecturas de combustible y devuelva un informe:"
   ]
  },
  {
   "cell_type": "code",
   "execution_count": 6,
   "metadata": {},
   "outputs": [],
   "source": [
    "def report(tank_one, tank_two, tank_three):\n",
    "    avg = (tank_one + tank_two + tank_three) / 3\n",
    "    report = (f'Tank one: \\t{tank_one}\\n'\n",
    "              f'Tank two: \\t{tank_two}\\n'\n",
    "              f'Tank three: \\t{tank_three}\\n'\n",
    "              f'Average: \\t{avg:.2f}\\n')\n",
    "    return report"
   ]
  },
  {
   "cell_type": "markdown",
   "metadata": {},
   "source": [
    "Ahora que hemos definido la función de informes, vamos a comprobarlo. Para esta misión, los tanques no están llenos:"
   ]
  },
  {
   "cell_type": "code",
   "execution_count": 7,
   "metadata": {},
   "outputs": [
    {
     "name": "stdout",
     "output_type": "stream",
     "text": [
      "Tank one: \t80\n",
      "Tank two: \t70\n",
      "Tank three: \t85\n",
      "Average: \t78.33\n",
      "\n"
     ]
    }
   ],
   "source": [
    "print(report(80,70,85))"
   ]
  },
  {
   "cell_type": "markdown",
   "metadata": {},
   "source": [
    "En lugar de simplemente crear el informe, la función también está calculando el promedio. Mejora la legibilidad extrayendo el cálculo promedio de la función en una nueva función para que el promedio se pueda hacer de forma independiente:"
   ]
  },
  {
   "cell_type": "code",
   "execution_count": 8,
   "metadata": {},
   "outputs": [],
   "source": [
    "def average(number_one, number_two, number_three):\n",
    "    return (number_one + number_two + number_three) / 3"
   ]
  },
  {
   "cell_type": "markdown",
   "metadata": {},
   "source": [
    "Ahora actualiza la función de informes para llamando a la nueva función del promedio:"
   ]
  },
  {
   "cell_type": "code",
   "execution_count": 9,
   "metadata": {},
   "outputs": [
    {
     "name": "stdout",
     "output_type": "stream",
     "text": [
      "Tank one: \t80\n",
      "Tank two: \t70\n",
      "Tank three: \t85\n",
      "Average: \t78.33\n",
      "\n"
     ]
    }
   ],
   "source": [
    "def report(tank_one, tank_two, tank_three):\n",
    "    avg = average(tank_one, tank_two, tank_three)\n",
    "    report = (f'Tank one: \\t{tank_one}\\n'\n",
    "              f'Tank two: \\t{tank_two}\\n'\n",
    "              f'Tank three: \\t{tank_three}\\n'\n",
    "              f'Average: \\t{avg:.2f}\\n')\n",
    "    return report\n",
    "\n",
    "print(report(80,70,85))"
   ]
  }
 ],
 "metadata": {
  "interpreter": {
   "hash": "60740cb007002db7b43cb7545d0c3e044f389928bfaff7a01ae67315f8e4f64f"
  },
  "kernelspec": {
   "display_name": "Python 3.9.9 ('Launchx-WhUxZN2k')",
   "language": "python",
   "name": "python3"
  },
  "language_info": {
   "codemirror_mode": {
    "name": "ipython",
    "version": 3
   },
   "file_extension": ".py",
   "mimetype": "text/x-python",
   "name": "python",
   "nbconvert_exporter": "python",
   "pygments_lexer": "ipython3",
   "version": "3.9.9"
  },
  "orig_nbformat": 4
 },
 "nbformat": 4,
 "nbformat_minor": 2
}
