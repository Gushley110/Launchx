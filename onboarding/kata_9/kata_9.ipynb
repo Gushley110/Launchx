{
 "cells": [
  {
   "cell_type": "markdown",
   "metadata": {},
   "source": [
    "# Ejercicio: Uso de funciones en Python\n",
    "### Ejercicio 1: Trabajar con argumentos en funciones\n",
    "Los argumentos requeridos en las funciones se utilizan cuando las funciones necesitan que esos argumentos funcionen correctamente. En este ejercicio, construirás un informe de combustible que requiere información de varias ubicaciones de combustible en todo el cohete.\n",
    "\n",
    "> **TIP** Dedica unos minutos para tratar de encontrar una solución. Luego desplázate hacia abajo hasta la parte inferior para ver si has logrado compilar el programa de acuerdo con las especificaciones\n",
    "\n",
    "Comienza por crear una función que necesite tres lecturas de combustible y devuelva un informe:"
   ]
  },
  {
   "cell_type": "code",
   "execution_count": 6,
   "metadata": {},
   "outputs": [],
   "source": [
    "def report(tank_one, tank_two, tank_three):\n",
    "    avg = (tank_one + tank_two + tank_three) / 3\n",
    "    report = (f'Tank one: \\t{tank_one}\\n'\n",
    "              f'Tank two: \\t{tank_two}\\n'\n",
    "              f'Tank three: \\t{tank_three}\\n'\n",
    "              f'Average: \\t{avg:.2f}\\n')\n",
    "    return report"
   ]
  },
  {
   "cell_type": "markdown",
   "metadata": {},
   "source": [
    "Ahora que hemos definido la función de informes, vamos a comprobarlo. Para esta misión, los tanques no están llenos:"
   ]
  },
  {
   "cell_type": "code",
   "execution_count": 7,
   "metadata": {},
   "outputs": [
    {
     "name": "stdout",
     "output_type": "stream",
     "text": [
      "Tank one: \t80\n",
      "Tank two: \t70\n",
      "Tank three: \t85\n",
      "Average: \t78.33\n",
      "\n"
     ]
    }
   ],
   "source": [
    "print(report(80,70,85))"
   ]
  },
  {
   "cell_type": "markdown",
   "metadata": {},
   "source": [
    "En lugar de simplemente crear el informe, la función también está calculando el promedio. Mejora la legibilidad extrayendo el cálculo promedio de la función en una nueva función para que el promedio se pueda hacer de forma independiente:"
   ]
  },
  {
   "cell_type": "code",
   "execution_count": 8,
   "metadata": {},
   "outputs": [],
   "source": [
    "def average(number_one, number_two, number_three):\n",
    "    return (number_one + number_two + number_three) / 3"
   ]
  },
  {
   "cell_type": "markdown",
   "metadata": {},
   "source": [
    "Ahora actualiza la función de informes para llamando a la nueva función del promedio:"
   ]
  },
  {
   "cell_type": "code",
   "execution_count": 9,
   "metadata": {},
   "outputs": [
    {
     "name": "stdout",
     "output_type": "stream",
     "text": [
      "Tank one: \t80\n",
      "Tank two: \t70\n",
      "Tank three: \t85\n",
      "Average: \t78.33\n",
      "\n"
     ]
    }
   ],
   "source": [
    "def report(tank_one, tank_two, tank_three):\n",
    "    avg = average(tank_one, tank_two, tank_three)\n",
    "    report = (f'Tank one: \\t{tank_one}\\n'\n",
    "              f'Tank two: \\t{tank_two}\\n'\n",
    "              f'Tank three: \\t{tank_three}\\n'\n",
    "              f'Average: \\t{avg:.2f}\\n')\n",
    "    return report\n",
    "\n",
    "print(report(80,70,85))"
   ]
  },
  {
   "cell_type": "markdown",
   "metadata": {},
   "source": [
    "# Ejercicio 2: Trabajo con argumentos de palabra clave\n",
    "### Ejercicio : Trabajar con argumentos de palabras clave en funciones\n",
    "En este ejercicio, construirás un informe de cohete que requiere varias piezas de información, como el tiempo hasta el destino, el combustible a la izquierda y el nombre del destino. Comienza por crear una función que creará un informe preciso de la misión:"
   ]
  },
  {
   "cell_type": "code",
   "execution_count": 10,
   "metadata": {},
   "outputs": [
    {
     "name": "stdout",
     "output_type": "stream",
     "text": [
      "Mission to Moon\n",
      "Total travel time: 65 minutes\n",
      "Total fuel left: 500000 gallons\n",
      "\n"
     ]
    }
   ],
   "source": [
    "def mission_report(pre_launch_time, flight_time, destination, external_tank, main_tank):\n",
    "    return (f'Mission to {destination}\\n'\n",
    "            f'Total travel time: {pre_launch_time + flight_time} minutes\\n'\n",
    "            f'Total fuel left: {external_tank + main_tank} gallons\\n')\n",
    "\n",
    "print(mission_report(14, 51, \"Moon\", 200000, 300000))"
   ]
  },
  {
   "cell_type": "markdown",
   "metadata": {},
   "source": [
    "La función es problemática porque no se puede adaptar para minutos adicionales o tanques adicionales de combustible. Hazlo más flexible permitiendo cualquier número de pasos basados en el tiempo y cualquier número de tanques. En lugar de usar `*args` y `**kwargs`, aprovecha el hecho de que puedes usar cualquier nombre que desees. Asegurate que la función sea más legible mediante el uso de nombres de variables que están asociados con las entradas, como `*minutes` y `**fuel_reservoirs`:"
   ]
  },
  {
   "cell_type": "code",
   "execution_count": 11,
   "metadata": {},
   "outputs": [
    {
     "name": "stdout",
     "output_type": "stream",
     "text": [
      "Mission to Moon\n",
      "Total travel time: 76 minutes\n",
      "Total fuel left: 500000 gallons\n",
      "\n"
     ]
    }
   ],
   "source": [
    "def mission_report(destination, *minutes, **fuel_reservoirs):\n",
    "    return (f'Mission to {destination}\\n'\n",
    "            f'Total travel time: {sum(minutes)} minutes\\n'\n",
    "            f'Total fuel left: {sum(fuel_reservoirs.values())} gallons\\n')\n",
    "    \n",
    "print(mission_report(\"Moon\", 10, 15, 51, main=300000, external=200000))"
   ]
  },
  {
   "cell_type": "markdown",
   "metadata": {},
   "source": [
    "Debido a que el combustible que queda en los tanques es específico de cada tanque, actualiza la función para usar el nombre de cada tanque en el informe:"
   ]
  },
  {
   "cell_type": "code",
   "execution_count": 16,
   "metadata": {},
   "outputs": [
    {
     "name": "stdout",
     "output_type": "stream",
     "text": [
      "Mission to Moon\n",
      "Total travel time: 76 minutes\n",
      "Total fuel left: 500000 gallons\n",
      "['main tank --> 300000 gallons left\\n', 'external tank --> 200000 gallons left\\n']\n"
     ]
    }
   ],
   "source": [
    "def mission_report(destination, *minutes, **fuel_reservoirs):\n",
    "    fuel = [f'{tank_name} tank --> {gallons} gallons left\\n' for tank_name, gallons in fuel_reservoirs.items()]\n",
    "    return (f'Mission to {destination}\\n'\n",
    "            f'Total travel time: {sum(minutes)} minutes\\n'\n",
    "            f'Total fuel left: {sum(fuel_reservoirs.values())} gallons\\n'\n",
    "            f'{fuel}')\n",
    "    \n",
    "print(mission_report(\"Moon\", 10, 15, 51, main=300000, external=200000))"
   ]
  }
 ],
 "metadata": {
  "interpreter": {
   "hash": "60740cb007002db7b43cb7545d0c3e044f389928bfaff7a01ae67315f8e4f64f"
  },
  "kernelspec": {
   "display_name": "Python 3.9.9 ('Launchx-WhUxZN2k')",
   "language": "python",
   "name": "python3"
  },
  "language_info": {
   "codemirror_mode": {
    "name": "ipython",
    "version": 3
   },
   "file_extension": ".py",
   "mimetype": "text/x-python",
   "name": "python",
   "nbconvert_exporter": "python",
   "pygments_lexer": "ipython3",
   "version": "3.9.9"
  },
  "orig_nbformat": 4
 },
 "nbformat": 4,
 "nbformat_minor": 2
}
